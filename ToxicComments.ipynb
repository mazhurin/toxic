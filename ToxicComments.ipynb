{
 "cells": [
  {
   "cell_type": "markdown",
   "metadata": {},
   "source": [
    "# Detection of Toxic Comments"
   ]
  },
  {
   "cell_type": "markdown",
   "metadata": {},
   "source": [
    "Kaggle competition: [Toxic Comment Classification Challenge](https://www.kaggle.com/c/jigsaw-toxic-comment-classification-challenge)"
   ]
  },
  {
   "cell_type": "code",
   "execution_count": 8,
   "metadata": {},
   "outputs": [],
   "source": [
    "seed = 333"
   ]
  },
  {
   "cell_type": "markdown",
   "metadata": {},
   "source": [
    "## Import"
   ]
  },
  {
   "cell_type": "code",
   "execution_count": 9,
   "metadata": {},
   "outputs": [],
   "source": [
    "import csv\n",
    "from datetime import datetime\n",
    "import string\n",
    "import pandas as pd\n",
    "import numpy as np\n",
    "from sklearn.model_selection import StratifiedKFold, KFold\n",
    "from keras.models import Sequential, Model\n",
    "from keras.layers import Dense, Input, Dropout, LSTM, GRU, Activation,GlobalMaxPool1D,Bidirectional\n",
    "from keras.layers.embeddings import Embedding\n",
    "from keras.wrappers.scikit_learn import KerasRegressor\n",
    "from sklearn.model_selection import cross_val_score\n",
    "import matplotlib.pyplot as plt"
   ]
  },
  {
   "cell_type": "markdown",
   "metadata": {},
   "source": [
    "## Load Embeddings"
   ]
  },
  {
   "cell_type": "code",
   "execution_count": 10,
   "metadata": {},
   "outputs": [],
   "source": [
    "def read_embeddings(glove_file):\n",
    "    with open(glove_file, 'r') as f:\n",
    "        words = set()\n",
    "        word_to_vec_map = {}\n",
    "        for line in f:\n",
    "            line = line.strip().split()\n",
    "            curr_word = line[0]\n",
    "            words.add(curr_word)\n",
    "            word_to_vec_map[curr_word] = np.array(line[1:], dtype=np.float64)\n",
    "        \n",
    "        i = 1\n",
    "        words_to_index = {}\n",
    "        index_to_words = {}\n",
    "        for w in sorted(words):\n",
    "            words_to_index[w] = i\n",
    "            index_to_words[i] = w\n",
    "            i = i + 1\n",
    "    return words_to_index, index_to_words, word_to_vec_map"
   ]
  },
  {
   "cell_type": "code",
   "execution_count": 11,
   "metadata": {},
   "outputs": [],
   "source": [
    "word_to_index, index_to_word, word_to_vec = read_embeddings('./glove/glove.twitter.27B.25d.txt')\n",
    "word_to_vec[\"0.065581\"] = [ 0.39605,  -0.96669,   0.23706,  -0.41379,  -0.97006,   0.16601,  -1.292,\n",
    " -0.58989,   0.11632,  -1.365,    -0.27939,  -0.57222,  -0.97108,  -0.56319,\n",
    " -0.015263, -0.70465,  -0.13867 ,  1.0702 ,  -0.25557  , 0.25122,  -0.87755,\n",
    "  0.70999 ,  0.9118 ,  -0.30077, 0 ]\n"
   ]
  },
  {
   "cell_type": "markdown",
   "metadata": {},
   "source": [
    "## Load Data"
   ]
  },
  {
   "cell_type": "code",
   "execution_count": 12,
   "metadata": {},
   "outputs": [
    {
     "name": "stdout",
     "output_type": "stream",
     "text": [
      "[nltk_data] Downloading package stopwords to\n",
      "[nltk_data]     /Users/mazhurin/nltk_data...\n",
      "[nltk_data]   Package stopwords is already up-to-date!\n",
      "[nltk_data] Downloading package punkt to /Users/mazhurin/nltk_data...\n",
      "[nltk_data]   Package punkt is already up-to-date!\n"
     ]
    }
   ],
   "source": [
    "import nltk, re\n",
    "from nltk.corpus import stopwords\n",
    "from nltk.stem import SnowballStemmer\n",
    "from nltk import word_tokenize\n",
    "nltk.download('stopwords')\n",
    "nltk.download('punkt')\n",
    "cache_english_stopwords=stopwords.words('english')\n",
    "\n",
    "replacements = [\n",
    "    ('f u c k', 'fuck'),\n",
    "    ('f uck', 'fuck'),\n",
    "    ('fuckyou', 'fuck you'),\n",
    "    ('fuckmother', 'fuck mother'),\n",
    "    ('WTF', 'what the fuck'),\n",
    "    ('OMFG', 'oh my fucking god'),\n",
    "    ('RTFM', 'read the fucking manual'),\n",
    "    ('ASAFP', 'as soon as fucking possible'),\n",
    "    ('FYVM',  'fuck you very much'),\n",
    "    ('whatever TF', 'whatever the fuck')\n",
    "]\n",
    "\n",
    "bad_words = [\n",
    "    'fuck',\n",
    "    'motherfucker',\n",
    "    'fucker',\n",
    "    'idiot'\n",
    "]\n",
    "\n",
    "def data_clean(message):\n",
    "    for a,b in replacements:\n",
    "        message = message.replace(a, b)\n",
    "    \n",
    "    temp_tw_list = word_tokenize(message)\n",
    "    # Remove stopwords\n",
    "    list_no_stopwords=[i for i in temp_tw_list if i.lower() not in     cache_english_stopwords]\n",
    "    # Remove hyperlinks\n",
    "    list_no_hyperlinks=[re.sub(r'https?:\\/\\/.*\\/\\w*','',i) for i in list_no_stopwords]\n",
    "    # Remove hashtags\n",
    "    list_no_hashtags=[re.sub(r'#', '', i) for i in list_no_hyperlinks]\n",
    "    #Remove numbers\n",
    "    list_no_numbers = [re.sub(r'$\\d+\\W+|\\b\\d+\\b|\\W+\\d+$','', i) for i in list_no_hashtags]\n",
    "   # Remove Punctuation and split 's, 't, 've with a space for filter\n",
    "    list_no_punctuation=[re.sub(r'['+string.punctuation+']+', ' ', i) for i in list_no_numbers]\n",
    "    # Remove multiple whitespace\n",
    "    new_sent = ' '.join(list_no_punctuation)\n",
    "    # Remove any words with 2 or fewer letters\n",
    "    filtered_list = word_tokenize(new_sent)\n",
    "    list_filtered = [re.sub(r'^\\w\\w?$', '', i) for i in filtered_list]\n",
    "    filtered_sent =' '.join(list_filtered)\n",
    "    clean_sent=re.sub(r'\\s\\s+', ' ', filtered_sent)\n",
    "    #Remove any whitespace at the front of the sentence\n",
    "    clean_sent=clean_sent.lstrip(' ')\n",
    "    # remove the articles\n",
    "    clean_sent = re.sub('(\\s+)(a|an|and|the)(\\s+)', ' ', clean_sent)\n",
    "\n",
    "    return clean_sent.lower()\n"
   ]
  },
  {
   "cell_type": "code",
   "execution_count": 13,
   "metadata": {},
   "outputs": [],
   "source": [
    "import re\n",
    "from string import digits\n",
    "def read_comments(filename = ''):\n",
    "    comments = []\n",
    "    labels = []\n",
    "    ids = []\n",
    "    remove_punctuation = str.maketrans('', '', string.punctuation)\n",
    "    remove_digits = str.maketrans('', '', digits)\n",
    "\n",
    "    with open (filename) as csvDataFile:\n",
    "        csvReader = csv.reader(csvDataFile)\n",
    "\n",
    "        header = True\n",
    "        progress = 0\n",
    "        for row in csvReader:\n",
    "\n",
    "            if progress % 10000 == 0:\n",
    "                print ('Line', progress)\n",
    "            progress += 1\n",
    "            \n",
    "            if header:\n",
    "                header = False\n",
    "                continue\n",
    "            ids.append(row[0])\n",
    "            #filtered_words = [word for word in s.split() if word not in stopwords.words('english')]\n",
    "            filtered_words = data_clean(row[1]).split()\n",
    "            words = []\n",
    "            for w in filtered_words:\n",
    "                if w in word_to_vec:\n",
    "                    words.append(w)\n",
    "                else:\n",
    "                    for badword in bad_words:\n",
    "                        if badword in w:\n",
    "                            words.append(badword)\n",
    "                            break\n",
    "\n",
    "            comments.append(words)          \n",
    "            if len(row) > 2:\n",
    "                classes = []\n",
    "                for i in range(2,8):\n",
    "                    classes.append(row[i])\n",
    "                labels.append(classes)\n",
    "\n",
    "    ids = np.asarray(ids)\n",
    "    X = np.asarray(comments)\n",
    "    Y = np.asarray(labels, dtype=int)\n",
    "\n",
    "    return ids, X, Y"
   ]
  },
  {
   "cell_type": "code",
   "execution_count": null,
   "metadata": {},
   "outputs": [
    {
     "name": "stdout",
     "output_type": "stream",
     "text": [
      "Line 0\n",
      "Line 10000\n",
      "Line 20000\n",
      "Line 30000\n",
      "Line 40000\n",
      "Line 50000\n",
      "Line 60000\n",
      "Line 70000\n",
      "Line 80000\n",
      "Line 90000\n"
     ]
    }
   ],
   "source": [
    "id_train, X_train, Y_train = read_comments('./data/train.csv')\n",
    "id_test, X_test, _ = read_comments('./data/test.csv')\n",
    "labels = [\"toxic\",\"severe_toxic\",\"obscene\",\"threat\",\"insult\",\"identity_hate\"]\n",
    "\n",
    "max_comment = 0\n",
    "for i in range(X_train.shape[0]):                               \n",
    "    l = len(X_train[i])\n",
    "    if max_comment < l:\n",
    "        max_comment = l\n",
    "for i in range(X_test.shape[0]):                               \n",
    "    l = len(X_test[i])\n",
    "    if max_comment < l:\n",
    "        max_comment = l\n",
    "num_classes = len(labels)\n",
    "print ('Max word count =', max_comment)"
   ]
  },
  {
   "cell_type": "code",
   "execution_count": null,
   "metadata": {},
   "outputs": [],
   "source": [
    "max_comment = 200"
   ]
  },
  {
   "cell_type": "markdown",
   "metadata": {},
   "source": [
    "## Split Data"
   ]
  },
  {
   "cell_type": "code",
   "execution_count": null,
   "metadata": {},
   "outputs": [],
   "source": [
    "kfold = KFold(n_splits=5,random_state=seed)\n",
    "folds = list()\n",
    "for train_index, dev_index in kfold.split(X_train):\n",
    "    folds.append({\n",
    "        'train' : train_index,\n",
    "        'dev' : dev_index,     \n",
    "    })"
   ]
  },
  {
   "cell_type": "markdown",
   "metadata": {},
   "source": []
  },
  {
   "cell_type": "markdown",
   "metadata": {},
   "source": [
    "## Metrics"
   ]
  },
  {
   "cell_type": "code",
   "execution_count": null,
   "metadata": {},
   "outputs": [],
   "source": [
    "from sklearn.metrics import log_loss\n",
    "from keras.backend import int_shape\n",
    "import keras.backend as K\n",
    "import tensorflow as tf\n",
    "_EPSILON = K.epsilon()\n",
    "    \n",
    "def custom_loss(y_true, y_pred):\n",
    "    losses = []\n",
    "    y_pred = K.clip(y_pred, _EPSILON, 1.0-_EPSILON)\n",
    "    num_classes = int_shape(y_pred)[1]\n",
    "    for i in range(num_classes):\n",
    "        losses.append(-K.mean(\n",
    "            y_true[:, i]*K.log(y_pred[:, i]) + (1.0-y_true[:, i])*K.log(1.0-y_pred[:, i]\n",
    "        ), axis = -1))\n",
    "    loss = tf.stack(losses)\n",
    "    loss = K.mean(loss, axis=-1)\n",
    "        \n",
    "    return loss"
   ]
  },
  {
   "cell_type": "code",
   "execution_count": null,
   "metadata": {},
   "outputs": [],
   "source": [
    "def f1(y_true, y_pred):\n",
    "    def recall(y_true, y_pred):\n",
    "        \"\"\"Recall metric.\n",
    "\n",
    "        Only computes a batch-wise average of recall.\n",
    "\n",
    "        Computes the recall, a metric for multi-label classification of\n",
    "        how many relevant items are selected.\n",
    "        \"\"\"\n",
    "        num_classes = int_shape(y_pred)[1]\n",
    "        true_positives = []\n",
    "        possible_positives = []\n",
    "        for i in range(num_classes):\n",
    "            true_positives.append(K.sum(K.round(K.clip(y_true[:, i] * y_pred[:, i], 0, 1))))\n",
    "            possible_positives.append(K.sum(K.round(K.clip(y_true[:, i], 0, 1))))\n",
    "        \n",
    "        true_positives = K.mean(tf.stack(true_positives), axis=-1) \n",
    "        possible_positives = K.mean(tf.stack(possible_positives), axis=-1) \n",
    "        \n",
    "        recall = true_positives / (possible_positives + K.epsilon())\n",
    "        return recall\n",
    "\n",
    "    def precision(y_true, y_pred):\n",
    "        \"\"\"Precision metric.\n",
    "\n",
    "        Only computes a batch-wise average of precision.\n",
    "\n",
    "        Computes the precision, a metric for multi-label classification of\n",
    "        how many selected items are relevant.\n",
    "        \"\"\"\n",
    "        num_classes = int_shape(y_pred)[1]\n",
    "        true_positives = []\n",
    "        predicted_positives = []\n",
    "        for i in range(num_classes):\n",
    "            true_positives.append(K.sum(K.round(K.clip(y_true[:, i] * y_pred[:, i], 0, 1))))\n",
    "            predicted_positives.append(K.sum(K.round(K.clip(y_pred[:, i], 0, 1))))\n",
    "        \n",
    "        true_positives = K.mean(tf.stack(true_positives), axis=-1) \n",
    "        predicted_positives = K.mean(tf.stack(predicted_positives), axis=-1) \n",
    "        \n",
    "        precision = true_positives / (predicted_positives + K.epsilon())\n",
    "        return precision\n",
    "    \n",
    "    precision = precision(y_true, y_pred)\n",
    "    recall = recall(y_true, y_pred)\n",
    "    return 2*((precision*recall)/(precision+recall+K.epsilon()))\n",
    "\n",
    "import sklearn.metrics as sklm\n",
    "from keras.callbacks import Callback\n",
    "\n",
    "class Metrics(Callback):\n",
    "    def on_train_begin(self, logs={}):\n",
    "        self.losses = []\n",
    "        self.losses_dev = []\n",
    "\n",
    "#     def average_auc(y_true, y_pred):\n",
    "#         auc = 0\n",
    "#         for i in range(y_true.shape[1]):\n",
    "#             auc += sklm.roc_auc_score(y_true, y_pred[:,i])\n",
    "#         return auc / y_true.shape[1]\n",
    "        \n",
    "    def on_epoch_end(self, epoch, logs={}):\n",
    "        self.losses.append(logs.get('loss'))\n",
    "        self.losses_dev.append(logs.get('val_loss'))\n",
    "        return"
   ]
  },
  {
   "cell_type": "markdown",
   "metadata": {},
   "source": [
    "## Cross Validation"
   ]
  },
  {
   "cell_type": "code",
   "execution_count": null,
   "metadata": {},
   "outputs": [],
   "source": [
    "# np.random.seed(seed)\n",
    "# estimator_baseline = KerasRegressor(build_fn=baseline_model, \n",
    "#                                     nb_epoch=1, batch_size=5, verbose=1)\n",
    "# results = cross_val_score(estimator_baseline, averages, Y_train, cv=kfold)\n",
    "# print(\"Results: %.2f (%.2f) MSE\" % (results.mean(), results.std()))"
   ]
  },
  {
   "cell_type": "markdown",
   "metadata": {},
   "source": [
    "## RNN"
   ]
  },
  {
   "cell_type": "code",
   "execution_count": null,
   "metadata": {},
   "outputs": [],
   "source": [
    "def sentences_to_indices(X, word_to_index, max_len):\n",
    "    \"\"\"\n",
    "    Converts an array of sentences (strings) into an array of indices corresponding to words in the sentences.\n",
    "    Arguments:\n",
    "    X -- array of sentences (strings), of shape (m, 1)\n",
    "    word_to_index -- a dictionary containing the each word mapped to its index\n",
    "    max_len -- maximum number of words in a sentence. You can assume every sentence in X is no longer than this. \n",
    "    \n",
    "    Returns:\n",
    "    X_indices -- array of indices corresponding to words in the sentences from X, of shape (m, max_len)\n",
    "    \"\"\"\n",
    "    m = X.shape[0]                                   # number of training examples\n",
    "    X_indices = np.zeros(shape=(m, max_len))\n",
    "    for i in range(m):                               \n",
    "        sentence_words = X[i]\n",
    "        j = 0\n",
    "        for w in sentence_words:\n",
    "            if j >= max_len:\n",
    "                break\n",
    "            if w in word_to_index:\n",
    "                X_indices[i, j] = word_to_index[w]\n",
    "            else :\n",
    "                X_indices[i, j] = word_to_index['word']\n",
    "            j = j + 1\n",
    "    return X_indices"
   ]
  },
  {
   "cell_type": "code",
   "execution_count": null,
   "metadata": {},
   "outputs": [],
   "source": [
    "X_train_indices = sentences_to_indices(X_train, word_to_index, max_comment)\n",
    "X_test_indices = sentences_to_indices(X_test, word_to_index, max_comment)"
   ]
  },
  {
   "cell_type": "code",
   "execution_count": null,
   "metadata": {},
   "outputs": [],
   "source": [
    "def pretrained_embedding_layer(word_to_vec, word_to_index):\n",
    "    \"\"\"\n",
    "    Creates a Keras Embedding() layer and loads in pre-trained GloVe \n",
    "    \n",
    "    Arguments:\n",
    "    word_to_vec -- dictionary mapping words to their GloVe vector representation.\n",
    "    word_to_index -- dictionary mapping from words to their indices in the vocabulary (400,001 words)\n",
    "\n",
    "    Returns:\n",
    "    embedding_layer -- pretrained layer Keras instance\n",
    "    \"\"\"\n",
    "    \n",
    "    # adding 1 to fit Keras embedding (requirement)\n",
    "    vocab_len = len(word_to_index) + 1                  \n",
    "    emb_dim = word_to_vec[\"cucumber\"].shape[0]  \n",
    "    emb_matrix = np.zeros(shape=(vocab_len, emb_dim))\n",
    "    \n",
    "    for word, index in word_to_index.items():\n",
    "        emb_matrix[index, :] = word_to_vec[word]\n",
    "\n",
    "    embedding_layer = Embedding(vocab_len, emb_dim, trainable=False)\n",
    "    embedding_layer.build((None,))\n",
    "    embedding_layer.set_weights([emb_matrix])\n",
    "    return embedding_layer"
   ]
  },
  {
   "cell_type": "code",
   "execution_count": null,
   "metadata": {},
   "outputs": [],
   "source": [
    "def rnn_model(input_shape, num_classes, word_to_vec, word_to_index):\n",
    "    \"\"\"\n",
    "    Create the model's graph.\n",
    "    \n",
    "    Arguments:\n",
    "    input_shape -- shape of the input, usually (max_len,)\n",
    "    word_to_vec -- dictionary mapping every word in a vocabulary into its n-dimensional vector representation\n",
    "    word_to_index -- dictionary mapping from words to their indices in the vocabulary \n",
    "\n",
    "    Returns:\n",
    "    model -- a model instance in Keras\n",
    "    \"\"\"\n",
    "    sentence_indices = Input(shape=input_shape, dtype='float32')\n",
    "    embedding_layer = pretrained_embedding_layer(word_to_vec, word_to_index)\n",
    "    embeddings = embedding_layer(sentence_indices)   \n",
    "    \n",
    "    X = GRU(64, return_sequences = True)(embeddings)\n",
    "    X = Dropout(rate=0.2)(X)\n",
    "    X = GRU(32, return_sequences = False)(X)\n",
    "    X = Dropout(rate=0.2)(X)\n",
    "#     X = Dense(units=30, activation='relu')(X)\n",
    "#     X = Dropout(0.1)(X)\n",
    "    X = Dense(units=num_classes, activation='sigmoid')(X)\n",
    "    model = Model(inputs = [sentence_indices], outputs = X)\n",
    "    \n",
    "    return model"
   ]
  },
  {
   "cell_type": "code",
   "execution_count": null,
   "metadata": {},
   "outputs": [],
   "source": [
    "model_RNN = rnn_model((max_comment,), num_classes, word_to_vec, word_to_index)\n",
    "model_RNN.summary()"
   ]
  },
  {
   "cell_type": "code",
   "execution_count": null,
   "metadata": {},
   "outputs": [],
   "source": [
    "metrics = Metrics()\n",
    "fold_index = 0\n",
    "\n",
    "weights = np.sum(Y_train[folds[fold_index]['train']], axis=1)\n",
    "weights = np.divide(np.add(w, 1), len(labels)+1)\n",
    "\n",
    "from keras.optimizers import Adam\n",
    "model_RNN.compile(\n",
    "    loss=custom_loss,\n",
    "    optimizer=Adam(lr=0.001, beta_1=0.9, beta_2=0.999, epsilon=None, decay=0.01, amsgrad=False), \n",
    "    metrics=[f1]\n",
    ")\n",
    "model_RNN.fit(X_train_indices[folds[fold_index]['train']], Y_train[folds[fold_index]['train']], \n",
    "    epochs = 50, batch_size = 64, shuffle=True, verbose=True,\n",
    "    callbacks=[metrics],\n",
    "    sample_weight=weights,\n",
    "    validation_data=(\n",
    "        X_train_indices[folds[fold_index]['dev']], Y_train[folds[fold_index]['dev']]\n",
    "    )\n",
    ")"
   ]
  },
  {
   "cell_type": "markdown",
   "metadata": {},
   "source": [
    "## Learning Curves"
   ]
  },
  {
   "cell_type": "code",
   "execution_count": 221,
   "metadata": {},
   "outputs": [
    {
     "data": {
      "text/plain": [
       "<matplotlib.legend.Legend at 0x2c3307518>"
      ]
     },
     "execution_count": 221,
     "metadata": {},
     "output_type": "execute_result"
    },
    {
     "data": {
      "image/png": "[encoded data removed]",
      "text/plain": [
       "<matplotlib.figure.Figure at 0x2c31f4748>"
      ]
     },
     "metadata": {},
     "output_type": "display_data"
    }
   ],
   "source": [
    "plt.figure(figsize=(12, 5))\n",
    "plt.title(\"Learning Curves\")\n",
    "plt.ylim((0.02, 0.16))\n",
    "plt.xlabel(\"Epocs\")\n",
    "plt.ylabel(\"Loss\")\n",
    "plt.grid()\n",
    "epocs = [i+1 for i in range(len(metrics.losses))]\n",
    "plt.plot(epocs, metrics.losses, 'o-', color=\"g\", label=\"Training loss\")\n",
    "plt.plot(epocs, metrics.losses_dev, 'o-', color=\"r\",label=\"Dev loss\")\n",
    "plt.legend(loc=\"best\")"
   ]
  },
  {
   "cell_type": "markdown",
   "metadata": {},
   "source": [
    "## Testing"
   ]
  },
  {
   "cell_type": "code",
   "execution_count": 131,
   "metadata": {},
   "outputs": [],
   "source": [
    "import matplotlib.pyplot as plt\n",
    "\n",
    "def plot_predictions(probabilities, title):\n",
    "    fig = plt.figure(figsize=(12, 4))\n",
    "    fig.suptitle(title)\n",
    "    plt.autoscale(enable=False, axis='y')\n",
    "    width = 0.85\n",
    "    ind = np.arange(len(probabilities))\n",
    "    plt.bar(ind, probabilities, width=width, color='g')\n",
    "    plt.xticks(ind, labels)\n",
    "    \n",
    "def predict(text, model):\n",
    "    plot_predictions(model.predict(sentences_to_indices(\n",
    "        np.asarray([text.split()]),word_to_index, max_comment))[0], text)    "
   ]
  },
  {
   "cell_type": "code",
   "execution_count": 132,
   "metadata": {},
   "outputs": [
    {
     "data": {
      "image/png": "[encoded data removed]",
      "text/plain": [
       "<matplotlib.figure.Figure at 0x16febb518>"
      ]
     },
     "metadata": {},
     "output_type": "display_data"
    }
   ],
   "source": [
    "predict(\"Do you think you are smart? idiot\", model_RNN)"
   ]
  },
  {
   "cell_type": "code",
   "execution_count": 133,
   "metadata": {},
   "outputs": [
    {
     "data": {
      "image/png": "[encoded data removed]",
      "text/plain": [
       "<matplotlib.figure.Figure at 0x16feaaef0>"
      ]
     },
     "metadata": {},
     "output_type": "display_data"
    }
   ],
   "source": [
    "predict(\"I love you, my darling\", model_RNN)"
   ]
  },
  {
   "cell_type": "markdown",
   "metadata": {},
   "source": [
    "## Submission"
   ]
  },
  {
   "cell_type": "code",
   "execution_count": 134,
   "metadata": {},
   "outputs": [],
   "source": [
    "y = model_RNN.predict(X_test_indices)\n",
    "#y = model.predict(X_test_avg)"
   ]
  },
  {
   "cell_type": "code",
   "execution_count": 135,
   "metadata": {},
   "outputs": [],
   "source": [
    "result = pd.concat([\n",
    "    pd.DataFrame(id_test, columns=['id']), \n",
    "    pd.DataFrame(y, columns=labels)], axis=1)\n",
    "result = result.set_index('id')\n",
    "result = result.fillna(0.0)\n",
    "\n",
    "\n",
    "\n",
    "result.to_csv('./result/anton_50epocs_2layers{}.csv'.format(datetime.now()), header=True)\n",
    "\n",
    "\n"
   ]
  },
  {
   "cell_type": "code",
   "execution_count": null,
   "metadata": {},
   "outputs": [],
   "source": []
  }
 ],
 "metadata": {
  "kernelspec": {
   "display_name": "Python 3",
   "language": "python",
   "name": "python3"
  },
  "language_info": {
   "codemirror_mode": {
    "name": "ipython",
    "version": 3
   },
   "file_extension": ".py",
   "mimetype": "text/x-python",
   "name": "python",
   "nbconvert_exporter": "python",
   "pygments_lexer": "ipython3",
   "version": "3.6.2"
  }
 },
 "nbformat": 4,
 "nbformat_minor": 2
}
